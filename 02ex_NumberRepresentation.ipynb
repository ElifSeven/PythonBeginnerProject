{
 "cells": [
  {
   "cell_type": "markdown",
   "metadata": {},
   "source": [
    "1\\. Write a function that converts number representation (bin<->dec<->hex)"
   ]
  },
  {
   "cell_type": "code",
   "execution_count": 9,
   "metadata": {},
   "outputs": [
    {
     "name": "stdout",
     "output_type": "stream",
     "text": [
      "Binary representation of 26 : 0b11010\n",
      "Hexadecimal representation of 26 : 0x1a\n",
      "Decimal representation of 0b11010 : 26\n",
      "Decimal representation of 0x1a : 26\n"
     ]
    }
   ],
   "source": [
    "a=0b11010\n",
    "\n",
    "a_bin = bin(a)\n",
    "print('Binary representation of',a,':', a_bin)\n",
    "\n",
    "a_hex = hex(a)\n",
    "print('Hexadecimal representation of',a,':', a_hex)\n",
    "\n",
    "print('Decimal representation of',a_bin,':', int(a_bin,2))\n",
    "print('Decimal representation of',a_hex,':', int(a_hex,16))"
   ]
  },
  {
   "cell_type": "markdown",
   "metadata": {},
   "source": [
    "2\\. Write a function that converts a 32 bit word into a single precision floating point (i.e. interprets the various bits as sign, mantissa and exponent)"
   ]
  },
  {
   "cell_type": "code",
   "execution_count": 8,
   "metadata": {},
   "outputs": [
    {
     "ename": "NameError",
     "evalue": "name 'bin2Dec' is not defined",
     "output_type": "error",
     "traceback": [
      "\u001b[0;31m---------------------------------------------------------------------------\u001b[0m",
      "\u001b[0;31mNameError\u001b[0m                                 Traceback (most recent call last)",
      "\u001b[0;32m<ipython-input-8-107f42704378>\u001b[0m in \u001b[0;36m<module>\u001b[0;34m\u001b[0m\n\u001b[1;32m     16\u001b[0m \u001b[0;32mif\u001b[0m \u001b[0m__name__\u001b[0m \u001b[0;34m==\u001b[0m \u001b[0;34m'__main__'\u001b[0m\u001b[0;34m:\u001b[0m\u001b[0;34m\u001b[0m\u001b[0;34m\u001b[0m\u001b[0m\n\u001b[1;32m     17\u001b[0m     \u001b[0mword\u001b[0m \u001b[0;34m=\u001b[0m \u001b[0;34m'11000000000100110111000101000000'\u001b[0m\u001b[0;34m\u001b[0m\u001b[0;34m\u001b[0m\u001b[0m\n\u001b[0;32m---> 18\u001b[0;31m     \u001b[0mprint\u001b[0m\u001b[0;34m(\u001b[0m\u001b[0mword2Float\u001b[0m\u001b[0;34m(\u001b[0m\u001b[0mword\u001b[0m\u001b[0;34m)\u001b[0m\u001b[0;34m)\u001b[0m\u001b[0;34m\u001b[0m\u001b[0;34m\u001b[0m\u001b[0m\n\u001b[0m",
      "\u001b[0;32m<ipython-input-8-107f42704378>\u001b[0m in \u001b[0;36mword2Float\u001b[0;34m(word)\u001b[0m\n\u001b[1;32m      7\u001b[0m \u001b[0;32mdef\u001b[0m \u001b[0mword2Float\u001b[0m\u001b[0;34m(\u001b[0m\u001b[0mword\u001b[0m\u001b[0;34m)\u001b[0m\u001b[0;34m:\u001b[0m\u001b[0;34m\u001b[0m\u001b[0;34m\u001b[0m\u001b[0m\n\u001b[1;32m      8\u001b[0m     \u001b[0mbias\u001b[0m \u001b[0;34m=\u001b[0m \u001b[0;36m127\u001b[0m\u001b[0;34m\u001b[0m\u001b[0;34m\u001b[0m\u001b[0m\n\u001b[0;32m----> 9\u001b[0;31m     \u001b[0msign\u001b[0m \u001b[0;34m=\u001b[0m \u001b[0mbin2Dec\u001b[0m\u001b[0;34m(\u001b[0m\u001b[0mword\u001b[0m\u001b[0;34m[\u001b[0m\u001b[0;36m0\u001b[0m\u001b[0;34m]\u001b[0m\u001b[0;34m)\u001b[0m\u001b[0;34m\u001b[0m\u001b[0;34m\u001b[0m\u001b[0m\n\u001b[0m\u001b[1;32m     10\u001b[0m     \u001b[0mexponent\u001b[0m \u001b[0;34m=\u001b[0m \u001b[0mbin2Dec\u001b[0m\u001b[0;34m(\u001b[0m\u001b[0mword\u001b[0m\u001b[0;34m[\u001b[0m\u001b[0;36m1\u001b[0m\u001b[0;34m:\u001b[0m\u001b[0;36m9\u001b[0m\u001b[0;34m]\u001b[0m\u001b[0;34m)\u001b[0m\u001b[0;34m\u001b[0m\u001b[0;34m\u001b[0m\u001b[0m\n\u001b[1;32m     11\u001b[0m     \u001b[0mmantissa\u001b[0m \u001b[0;34m=\u001b[0m \u001b[0mbin2Dec_comma\u001b[0m\u001b[0;34m(\u001b[0m\u001b[0mword\u001b[0m\u001b[0;34m[\u001b[0m\u001b[0;36m9\u001b[0m\u001b[0;34m:\u001b[0m\u001b[0;36m32\u001b[0m\u001b[0;34m]\u001b[0m\u001b[0;34m)\u001b[0m\u001b[0;34m\u001b[0m\u001b[0;34m\u001b[0m\u001b[0m\n",
      "\u001b[0;31mNameError\u001b[0m: name 'bin2Dec' is not defined"
     ]
    }
   ],
   "source": [
    "def bin2Dec_comma(bins):\n",
    "    result = 0\n",
    "    for i,c in enumerate(bins,1):\n",
    "        result += int(c)*2**(-i)\n",
    "    return result\n",
    "\n",
    "def word2Float(word):\n",
    "    bias = 127\n",
    "    sign = bin2Dec(word[0])\n",
    "    exponent = bin2Dec(word[1:9])\n",
    "    mantissa = bin2Dec_comma(word[9:32])\n",
    "\n",
    "    return (-1)**sign * (1+mantissa) * 2**(exponent-bias)\n",
    "\n",
    "# Test\n",
    "if __name__ == '__main__':\n",
    "    word = '11000000000100110111000101000000'\n",
    "    print(word2Float(word))"
   ]
  },
  {
   "cell_type": "markdown",
   "metadata": {},
   "source": [
    "3\\. Write a program to determine the underflow and overflow limits (within a factor of 2) for python on your computer. \n",
    "\n",
    "**Tips**: define two variables inizialized to 1 and halve/double them enough time to exceed the under/over-flow limits  "
   ]
  },
  {
   "cell_type": "code",
   "execution_count": 10,
   "metadata": {},
   "outputs": [
    {
     "name": "stdout",
     "output_type": "stream",
     "text": [
      "Underflow limit is reached:  5e-324\n",
      "Overflow limit is reached:  8.98846567431158e+307\n"
     ]
    }
   ],
   "source": [
    "import math\n",
    "\n",
    "var1=1.\n",
    "var2=1.\n",
    "\n",
    "#Underflow Test\n",
    "while True:\n",
    "    if var1 /2 != 0:\n",
    "        var1 /= 2\n",
    "    else:\n",
    "        break\n",
    "print(\"Underflow limit is reached: \", var1)\n",
    "\n",
    "#Overflow Test\n",
    "while True:\n",
    "    if var2 * 2 < math.inf:\n",
    "        var2 *= 2\n",
    "    else:\n",
    "        break\n",
    "print(\"Overflow limit is reached: \", var2)"
   ]
  },
  {
   "cell_type": "markdown",
   "metadata": {},
   "source": [
    "4\\. Write a program to determine the machine precision\n",
    "\n",
    "**Tips**: define a new variable by adding a smaller and smaller value (proceeding similarly to prob. 2) to an original variable and check the point where the two are the same "
   ]
  },
  {
   "cell_type": "code",
   "execution_count": 11,
   "metadata": {},
   "outputs": [
    {
     "name": "stdout",
     "output_type": "stream",
     "text": [
      "precision is:  2.220446049250313e-16\n"
     ]
    }
   ],
   "source": [
    "value = 1\n",
    "reach = 2\n",
    "esp = 1\n",
    "while (value + (1/(2**esp))) <= reach:\n",
    "    value += 1/(2**esp)\n",
    "    if value == reach:\n",
    "        break\n",
    "    esp += 1\n",
    "\n",
    "res = 1\n",
    "for i in range(1,esp):\n",
    "    res += (1/2)**i\n",
    "print('precision is: ',value-res)"
   ]
  },
  {
   "cell_type": "markdown",
   "metadata": {},
   "source": [
    "5\\. Write a function that takes in input three parameters $a$, $b$ and $c$ and prints out the two solutions to the quadratic equation $ax^2+bx+c=0$ using the standard formula:\n",
    "$$\n",
    "x=\\frac{-b\\pm\\sqrt{b^2-4ac}}{2a}\n",
    "$$\n",
    "\n",
    "(a) use the program to compute the solution for $a=0.001$, $b=1000$ and $c=0.001$\n",
    "\n",
    "(b) re-express the standard solution formula by multiplying top and bottom by $-b\\mp\\sqrt{b^2-4ac}$ and again find the solution for $a=0.001$, $b=1000$ and $c=0.001$. How does it compare with what previously obtained? Why?\n",
    "\n",
    "(c) write a function that compute the roots of a quadratic equation accurately in all cases"
   ]
  },
  {
   "cell_type": "code",
   "execution_count": 13,
   "metadata": {},
   "outputs": [
    {
     "name": "stdout",
     "output_type": "stream",
     "text": [
      "(-9.999894245993346e-07, -999999.999999)\n",
      "(-1.00000761449437e-06, -1000018.1900864029)\n",
      "(-1.00000761449437e-06, -999999.999999)\n",
      "[-1.e+06 -1.e-06]\n"
     ]
    }
   ],
   "source": [
    "import math\n",
    "import numpy as np\n",
    "\n",
    "#a:\n",
    "def quadratSolver(a,b,c):\n",
    "    return ((-b+math.sqrt(b**2-4*a*c))/(2*a),\n",
    "           (-b-math.sqrt(b**2-4*a*c))/(2*a))\n",
    "\n",
    "#b:\n",
    "def quadratSolverY(a,b,c):\n",
    "    return ((b**2 - (b**2-4*a*c))/(2*a*(-b-math.sqrt(b**2-4*a*c))),\n",
    "           (b**2 - (b**2-4*a*c))/(2*a*(-b+math.sqrt(b**2-4*a*c))))\n",
    "\n",
    "#c:\n",
    "def quadratSolverZ(a,b,c):\n",
    "    return ((b**2 - (b**2-4*a*c))/(2*a*(-b-math.sqrt(b**2-4*a*c))),\n",
    "           (-b-math.sqrt(b**2-4*a*c))/(2*a))\n",
    "\n",
    "print(quadratSolver(0.001, 1000, 0.001))\n",
    "print(quadratSolverY(0.001, 1000, 0.001))\n",
    "print(quadratSolverZ(0.001, 1000, 0.001))\n",
    "print(np.roots([0.001, 1000, 0.001]))"
   ]
  },
  {
   "cell_type": "markdown",
   "metadata": {},
   "source": [
    "6\\. Write a program that implements the function $f(x)=x(x−1)$\n",
    "\n",
    "(a) Calculate the derivative of the function at the point $x = 1$ using the derivative definition:\n",
    "\n",
    "$$\n",
    "\\frac{{\\rm d}f}{{\\rm d}x} = \\lim_{\\delta\\to0} \\frac{f(x+\\delta)-f(x)}{\\delta}\n",
    "$$\n",
    "\n",
    "with $\\delta = 10^{−2}$. Calculate the true value of the same derivative analytically and compare with the answer your program gives. The two will not agree perfectly. Why not?\n",
    "\n",
    "(b) Repeat the calculation for $\\delta = 10^{−4}, 10^{−6}, 10^{−8}, 10^{−10}, 10^{−12}$ and $10^{−14}$. How does the accuracy scales with $\\delta$?"
   ]
  },
  {
   "cell_type": "code",
   "execution_count": null,
   "metadata": {},
   "outputs": [],
   "source": []
  },
  {
   "cell_type": "markdown",
   "metadata": {},
   "source": [
    "7\\. Consider the integral of the semicircle of radius 1:\n",
    "$$\n",
    "I=\\int_{-1}^{1} \\sqrt(1-x^2) {\\rm d}x\n",
    "$$\n",
    "which it's known to be $I=\\frac{\\pi}{2}=1.57079632679...$.\n",
    "Alternatively we can use the Riemann definition of the integral:\n",
    "$$\n",
    "I=\\lim_{N\\to\\infty} \\sum_{k=1}^{N} h y_k \n",
    "$$\n",
    "\n",
    "with $h=2/N$ the width of each of the $N$ slices the domain is divided into and where\n",
    "$y_k$ is the value of the function at the $k-$th slice.\n",
    "\n",
    "(a) Write a programe to compute the integral with $N=100$. How does the result compares to the true value?\n",
    "\n",
    "(b) How much can $N$ be increased if the computation needs to be run in less than a second? What is the gain in running it for 1 minute? \n"
   ]
  },
  {
   "cell_type": "code",
   "execution_count": 5,
   "metadata": {},
   "outputs": [
    {
     "name": "stdout",
     "output_type": "stream",
     "text": [
      "I:  1.5691342555492498\n",
      "Precision:  % 99.89418925819376\n",
      "Time elapsed: 0.0011281967163085938 s\n",
      "I:  1.5707963251292403\n",
      "Precision:  % 99.99999989396103\n",
      "Time elapsed: 0.5233080387115479 s\n"
     ]
    }
   ],
   "source": [
    "import math\n",
    "import time\n",
    "startTime = time.time()\n",
    "\n",
    "def func(x):\n",
    "    return math.sqrt(1-x**2)\n",
    "N=100\n",
    "I=0\n",
    "for i in range (1,101):\n",
    "    I += func(-1+ i*2/N)\n",
    "I*=(2/N)\n",
    "print(\"I: \", I)\n",
    "print(\"Precision: \",\"%\",I*100/(math.pi/2))\n",
    "print('Time elapsed:', time.time() - startTime, 's')\n",
    "\n",
    "N=999000\n",
    "I=0\n",
    "for i in range (1,999001):\n",
    "    I += func(-1+ i*2/N)\n",
    "I*=(2/N)\n",
    "print(\"I: \", I)\n",
    "print(\"Precision: \",\"%\",I*100/(math.pi/2))\n",
    "print('Time elapsed:', time.time() - startTime, 's')"
   ]
  },
  {
   "cell_type": "code",
   "execution_count": null,
   "metadata": {},
   "outputs": [],
   "source": []
  }
 ],
 "metadata": {
  "kernelspec": {
   "display_name": "Python 3",
   "language": "python",
   "name": "python3"
  },
  "language_info": {
   "codemirror_mode": {
    "name": "ipython",
    "version": 3
   },
   "file_extension": ".py",
   "mimetype": "text/x-python",
   "name": "python",
   "nbconvert_exporter": "python",
   "pygments_lexer": "ipython3",
   "version": "3.7.4"
  }
 },
 "nbformat": 4,
 "nbformat_minor": 2
}
